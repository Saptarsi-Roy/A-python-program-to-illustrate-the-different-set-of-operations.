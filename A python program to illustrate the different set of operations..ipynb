{
 "cells": [
  {
   "cell_type": "markdown",
   "id": "91655bc4",
   "metadata": {},
   "source": [
    "# A python program to illustrate the different set of operations."
   ]
  },
  {
   "cell_type": "code",
   "execution_count": 1,
   "id": "de4f7f36",
   "metadata": {},
   "outputs": [],
   "source": [
    "E={0,2,4,6,8}\n",
    "N={1,2,3,4,5}"
   ]
  },
  {
   "cell_type": "code",
   "execution_count": 2,
   "id": "46489ea3",
   "metadata": {},
   "outputs": [
    {
     "name": "stdout",
     "output_type": "stream",
     "text": [
      "{0, 2, 4, 6, 8}\n"
     ]
    }
   ],
   "source": [
    "print(E)"
   ]
  },
  {
   "cell_type": "code",
   "execution_count": 3,
   "id": "c2cea771",
   "metadata": {},
   "outputs": [
    {
     "name": "stdout",
     "output_type": "stream",
     "text": [
      "{1, 2, 3, 4, 5}\n"
     ]
    }
   ],
   "source": [
    "print(N)"
   ]
  },
  {
   "cell_type": "markdown",
   "id": "14e86cba",
   "metadata": {},
   "source": [
    "# Union Of E & N"
   ]
  },
  {
   "cell_type": "code",
   "execution_count": 4,
   "id": "218c889a",
   "metadata": {},
   "outputs": [
    {
     "data": {
      "text/plain": [
       "{0, 1, 2, 3, 4, 5, 6, 8}"
      ]
     },
     "execution_count": 4,
     "metadata": {},
     "output_type": "execute_result"
    }
   ],
   "source": [
    "E.union(N)"
   ]
  },
  {
   "cell_type": "code",
   "execution_count": 5,
   "id": "3c7add35",
   "metadata": {},
   "outputs": [
    {
     "data": {
      "text/plain": [
       "{0, 1, 2, 3, 4, 5, 6, 8}"
      ]
     },
     "execution_count": 5,
     "metadata": {},
     "output_type": "execute_result"
    }
   ],
   "source": [
    "E|N"
   ]
  },
  {
   "cell_type": "markdown",
   "id": "299bced4",
   "metadata": {},
   "source": [
    "# Intersection of E & N"
   ]
  },
  {
   "cell_type": "code",
   "execution_count": 6,
   "id": "0f26e7a8",
   "metadata": {},
   "outputs": [
    {
     "data": {
      "text/plain": [
       "{2, 4}"
      ]
     },
     "execution_count": 6,
     "metadata": {},
     "output_type": "execute_result"
    }
   ],
   "source": [
    "E.intersection(N)"
   ]
  },
  {
   "cell_type": "code",
   "execution_count": 7,
   "id": "0f84ae43",
   "metadata": {},
   "outputs": [
    {
     "data": {
      "text/plain": [
       "{2, 4}"
      ]
     },
     "execution_count": 7,
     "metadata": {},
     "output_type": "execute_result"
    }
   ],
   "source": [
    "E & N"
   ]
  },
  {
   "cell_type": "markdown",
   "id": "889ba5c1",
   "metadata": {},
   "source": [
    "# Difference of E & N"
   ]
  },
  {
   "cell_type": "code",
   "execution_count": 8,
   "id": "8fc8316d",
   "metadata": {},
   "outputs": [
    {
     "data": {
      "text/plain": [
       "{0, 6, 8}"
      ]
     },
     "execution_count": 8,
     "metadata": {},
     "output_type": "execute_result"
    }
   ],
   "source": [
    "E.difference(N)"
   ]
  },
  {
   "cell_type": "code",
   "execution_count": 9,
   "id": "546a4844",
   "metadata": {},
   "outputs": [
    {
     "data": {
      "text/plain": [
       "{0, 6, 8}"
      ]
     },
     "execution_count": 9,
     "metadata": {},
     "output_type": "execute_result"
    }
   ],
   "source": [
    "E-N"
   ]
  },
  {
   "cell_type": "markdown",
   "id": "14d6760d",
   "metadata": {},
   "source": [
    "#  Symmetric Difference of E & N"
   ]
  },
  {
   "cell_type": "code",
   "execution_count": 10,
   "id": "1a863eb7",
   "metadata": {},
   "outputs": [
    {
     "data": {
      "text/plain": [
       "{0, 1, 3, 5, 6, 8}"
      ]
     },
     "execution_count": 10,
     "metadata": {},
     "output_type": "execute_result"
    }
   ],
   "source": [
    "E.symmetric_difference(N)"
   ]
  },
  {
   "cell_type": "code",
   "execution_count": null,
   "id": "2e809f6c",
   "metadata": {},
   "outputs": [],
   "source": []
  }
 ],
 "metadata": {
  "kernelspec": {
   "display_name": "Python 3",
   "language": "python",
   "name": "python3"
  },
  "language_info": {
   "codemirror_mode": {
    "name": "ipython",
    "version": 3
   },
   "file_extension": ".py",
   "mimetype": "text/x-python",
   "name": "python",
   "nbconvert_exporter": "python",
   "pygments_lexer": "ipython3",
   "version": "3.8.8"
  }
 },
 "nbformat": 4,
 "nbformat_minor": 5
}
